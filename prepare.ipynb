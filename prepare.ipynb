{
 "cells": [
  {
   "cell_type": "code",
   "execution_count": 17,
   "metadata": {},
   "outputs": [
    {
     "name": "stderr",
     "output_type": "stream",
     "text": [
      "[nltk_data] Downloading package wordnet to\n",
      "[nltk_data]     /Users/brandmarz/nltk_data...\n",
      "[nltk_data]   Unzipping corpora/wordnet.zip.\n"
     ]
    }
   ],
   "source": [
    "import unicodedata\n",
    "import re\n",
    "import json\n",
    "\n",
    "import nltk\n",
    "from nltk.tokenize.toktok import ToktokTokenizer\n",
    "from nltk.corpus import stopwords\n",
    "\n",
    "import nltk\n",
    "nltk.download('wordnet')\n",
    "\n",
    "import pandas as pd\n",
    "\n",
    "import acquire"
   ]
  },
  {
   "cell_type": "markdown",
   "metadata": {},
   "source": [
    "1. Define a function named `basic_clean`. It should take in a string and apply some basic text cleaning to it:\n",
    "\n",
    "    - Lowercase everything\n",
    "    - Normalize unicode characters\n",
    "    - Replace anything that is not a letter, number, whitespace or a single quote."
   ]
  },
  {
   "cell_type": "code",
   "execution_count": 21,
   "metadata": {},
   "outputs": [],
   "source": [
    "blogs = acquire.get_blog_articles(acquire.get_all_urls())"
   ]
  },
  {
   "cell_type": "code",
   "execution_count": 22,
   "metadata": {},
   "outputs": [
    {
     "data": {
      "text/html": [
       "<div>\n",
       "<style scoped>\n",
       "    .dataframe tbody tr th:only-of-type {\n",
       "        vertical-align: middle;\n",
       "    }\n",
       "\n",
       "    .dataframe tbody tr th {\n",
       "        vertical-align: top;\n",
       "    }\n",
       "\n",
       "    .dataframe thead th {\n",
       "        text-align: right;\n",
       "    }\n",
       "</style>\n",
       "<table border=\"1\" class=\"dataframe\">\n",
       "  <thead>\n",
       "    <tr style=\"text-align: right;\">\n",
       "      <th></th>\n",
       "      <th>title</th>\n",
       "      <th>content</th>\n",
       "    </tr>\n",
       "  </thead>\n",
       "  <tbody>\n",
       "    <tr>\n",
       "      <th>0</th>\n",
       "      <td>Alumni Share their Journey into Web Development</td>\n",
       "      <td>Everyone starts somewhere. Many developers out...</td>\n",
       "    </tr>\n",
       "    <tr>\n",
       "      <th>1</th>\n",
       "      <td>How Codeup Alumni Helped Dallas Youth Fight CO...</td>\n",
       "      <td>Three of our Web Development alumni from Dalla...</td>\n",
       "    </tr>\n",
       "    <tr>\n",
       "      <th>2</th>\n",
       "      <td>What is Codeup’s Application Process?</td>\n",
       "      <td>Curious about Codeup’s application process? Wo...</td>\n",
       "    </tr>\n",
       "    <tr>\n",
       "      <th>3</th>\n",
       "      <td>Codeup Launches Houston!</td>\n",
       "      <td>Houston, we have a problem: there aren’t enoug...</td>\n",
       "    </tr>\n",
       "    <tr>\n",
       "      <th>4</th>\n",
       "      <td>Codeup Grads Win CivTech Datathon</td>\n",
       "      <td>Many Codeup alumni enjoy competing in hackatho...</td>\n",
       "    </tr>\n",
       "  </tbody>\n",
       "</table>\n",
       "</div>"
      ],
      "text/plain": [
       "                                               title  \\\n",
       "0    Alumni Share their Journey into Web Development   \n",
       "1  How Codeup Alumni Helped Dallas Youth Fight CO...   \n",
       "2              What is Codeup’s Application Process?   \n",
       "3                           Codeup Launches Houston!   \n",
       "4                  Codeup Grads Win CivTech Datathon   \n",
       "\n",
       "                                             content  \n",
       "0  Everyone starts somewhere. Many developers out...  \n",
       "1  Three of our Web Development alumni from Dalla...  \n",
       "2  Curious about Codeup’s application process? Wo...  \n",
       "3  Houston, we have a problem: there aren’t enoug...  \n",
       "4  Many Codeup alumni enjoy competing in hackatho...  "
      ]
     },
     "execution_count": 22,
     "metadata": {},
     "output_type": "execute_result"
    }
   ],
   "source": [
    "blogs.head()"
   ]
  },
  {
   "cell_type": "code",
   "execution_count": 24,
   "metadata": {},
   "outputs": [],
   "source": [
    "def basic_clean(string):\n",
    "    # lowercase all letters\n",
    "    string = string.lower()\n",
    "    # normalize unicode characters\n",
    "    string = unicodedata.normalize('NFKD', string)\\\n",
    "        .encode('ascii', 'ignore')\\\n",
    "        .decode('utf-8', 'ignore')\n",
    "    # replace everything that isn't letters, numbers, \n",
    "    # whitespace, or single quotes\n",
    "    string = re.sub(r\"[^a-z0-9'\\s]\", '', string)\n",
    "    return string"
   ]
  },
  {
   "cell_type": "code",
   "execution_count": 25,
   "metadata": {},
   "outputs": [
    {
     "data": {
      "text/plain": [
       "'everyone starts somewhere many developers out there didnt grow up wanting to code its something they fell into over time much like two codeup alumni bridget mills and eddy bautista these two software developers graduated from our web development class in december 2019 they came back for a virtual panel event to share their journey into web development and to give advice to people wanting to become a software developer\\n \\nwhat were you doing before codeup\\neddy had been a sales assistant for years and was a student at san antonio college studying kinesiology\\nbridget worked at a courthouse but those career plans were altered after becoming a military spouse and moving she went back to school for a degree in information technology it specializing in system engineering and became an it specialist\\n \\nwhat led you to a career in coding\\nwhen someone he knew mentioned coding eddy learned all he could and coded for three days using online courses and tutorials he immediately knew this was what he wanted to do as a career \\nwhile bridget was working at the lawyers office a development team came in to help with court systems she asked them questions and became fascinated by what they were doing after deciding not to pursue law she decided to go back to school for it her job as an it specialist isnt exactly what she had in mind but her degree didnt offer the coding experience necessary to become a developer which was her true end goal even after moving to hawaii and having two kids that dream persisted her cousin a developer mentioned that some of her coworkers went to a coding bootcamp with another kid and another move on the horizon she decided she would enroll in a coding bootcamp when her family settled down in texas \\n \\nwhy codeup\\nwhile researching how to become a developer eddy found codeup our culture stood out to him the admissions team was helpful he liked that we offer help with the job search through resume assistance and interview training and he really liked how plugged in we are to the san antonio technology scene he felt all the pieces coming together and could picture himself here\\nfor bridget it boiled down to the curriculum and handson experience when she was in college she learned a lot of theory but didnt get experience actually coding which as she learned the hard way is what employers are really looking for she looked into some options for coding bootcamps and codeup stood out to her it was big plus that even as a military spouse she was able to use va benefits she loved our assistance with job placement and noted that she had gone to school twice and neither college offered anything like that \\n \\nwhats a typical day for you\\ncurrently both panelists are working as developers for via metropolitan transit due to covid19 theyre both working from home\\neddy usually starts his day early with a coding challenge on a website like codewars he has a virtual meeting with his mentor to discuss some code for most of the day they solve a problem or do some pair programming they also have team meetings and daily standups\\nbridget is currently leading an artificial intelligence project with via that takes up most of her time she usually has virtual meetings with members of her team other teams at via and contractors she does documentation and uses programs to update the current status of her projects for the team to see \\n \\nhow is the worklife balance\\ncoding is a hobby for bridget she takes her laptop with her from room to room sometimes coding with her child in her lap she loves it so much she often works late unintentionally until her kids come in the room to check on her because of this she doesnt feel completely balanced but knows that its only because she loves it so much\\neddy feels similarly stating that when they do work late its usually because they want to the worklife balance has been good for him\\n \\nwhat advice would you give to someone thinking of attending codeups web development program\\nbridget was nervous coming into codeup but it gave her everything she was looking for part of why she wanted to be a developer was because she thought they get to sit around alone not having to interact with anybody she very quickly realized this was not the case you have to speak up and you have to do it well and often with a lot of people youll have to work hard beyond the regular hours take advantage of all the resources schedule some meetups with peers to work together outside of class its so worth it in the end just go for it\\neddy learned that keeping a parttime job is possible but really really hard he was one of the only students ever to finish codeup while working a job rushing to work right after class he regrets doing that because he missed out on socializing and working together after hours but when he had time he always tried to work with other students to solve problems together and encourages the same in others break out of your comfort zone and dont be scared to just start from where you are the first couple weeks will be really hard but learn to fall in love with the feeling of being stuck because eventually youll be able to solve it\\nbridget and eddy are working together at via but took very different pathways to get to where they are eddy hadnt thought much about coding before deciding to dive right into it whereas bridget wanted a career as a developer for years whether coding is something you never gave much thought to or youve tried a different route before you too can make a transition into web development with codeup if youre interested in starting a career that you love in an evergrowing industry apply today \\n\\n'"
      ]
     },
     "execution_count": 25,
     "metadata": {},
     "output_type": "execute_result"
    }
   ],
   "source": [
    "basic_clean(blogs.content[0])"
   ]
  },
  {
   "cell_type": "markdown",
   "metadata": {},
   "source": [
    "2. Define a function named `tokenize`. It should take in a string and tokenize all the words in the string."
   ]
  },
  {
   "cell_type": "code",
   "execution_count": 26,
   "metadata": {},
   "outputs": [],
   "source": [
    "def tokenize(string):\n",
    "    # creates tokenizer object\n",
    "    tokenizer = nltk.tokenize.ToktokTokenizer()\n",
    "    # returns the string tokeized\n",
    "    return tokenizer.tokenize(string, return_str=True)"
   ]
  },
  {
   "cell_type": "code",
   "execution_count": 27,
   "metadata": {},
   "outputs": [
    {
     "data": {
      "text/plain": [
       "'Everyone starts somewhere. Many developers out there didn ’ t grow up wanting to code. It ’ s something they fell into over time , much like two Codeup alumni , Bridget Mills and Eddy Bautista. These two software developers graduated from our Web Development class in December 2019. They came back for a virtual panel event to share their journey into web development and to give advice to people wanting to become a software developer.\\n \\nWhat were you doing before Codeup ? \\nEddy had been a sales assistant for years and was a student at San Antonio College studying Kinesiology.\\nBridget worked at a courthouse , but those career plans were altered after becoming a military spouse and moving. She went back to school for a degree in Information Technology ( IT ) , specializing in System Engineering , and became an IT Specialist.\\n \\nWhat led you to a career in coding ? \\nWhen someone he knew mentioned coding , Eddy learned all he could and coded for three days using online courses and tutorials. He immediately knew this was what he wanted to do as a career. \\nWhile Bridget was working at the lawyer ’ s office , a development team came in to help with court systems. She asked them questions and became fascinated by what they were doing. After deciding not to pursue law , she decided to go back to school for IT. Her job as an IT Specialist isn ’ t exactly what she had in mind , but her degree didn ’ t offer the coding experience necessary to become a developer , which was her true end goal. Even after moving to Hawaii and having two kids , that dream persisted. Her cousin , a developer , mentioned that some of her coworkers went to a coding bootcamp. With another kid and another move on the horizon , she decided she would enroll in a coding bootcamp when her family settled down in Texas. \\n \\nWhy Codeup ? \\nWhile researching how to become a developer , Eddy found Codeup. Our culture stood out to him , the admissions team was helpful , he liked that we offer help with the job search through resume assistance and interview training , and he really liked how plugged in we are to the San Antonio technology scene. He felt all the pieces coming together and could picture himself here.\\nFor Bridget , it boiled down to the curriculum and hands-on experience. When she was in college , she learned a lot of theory , but didn ’ t get experience actually coding , which , as she learned the hard way , is what employers are really looking for. She looked into some options for coding bootcamps and Codeup stood out to her. It was big plus that even as a military spouse , she was able to use VA benefits. She loved our assistance with job placement , and noted that she had gone to school twice and neither college offered anything like that. \\n \\nWhat ’ s a typical day for you ? \\nCurrently , both panelists are working as developers for VIA Metropolitan Transit. Due to COVID-19 , they ’ re both working from home.\\nEddy usually starts his day early with a coding challenge on a website like Codewars. He has a virtual meeting with his mentor to discuss some code. For most of the day , they solve a problem or do some pair programming. They also have team meetings and daily standups.\\nBridget is currently leading an Artificial Intelligence project with VIA that takes up most of her time. She usually has virtual meetings with members of her team , other teams at VIA , and contractors. She does documentation and uses programs to update the current status of her projects for the team to see. \\n \\nHow is the work-life balance ? \\nCoding is a hobby for Bridget. She takes her laptop with her from room to room , sometimes coding with her child in her lap. She loves it so much , she often works late unintentionally until her kids come in the room to check on her. Because of this , she doesn ’ t feel completely balanced but knows that it ’ s only because she loves it so much.\\nEddy feels similarly , stating that when they do work late , it ’ s usually because they want to. The work-life balance has been good for him.\\n \\nWhat advice would you give to someone thinking of attending Codeup ’ s Web Development program ? \\nBridget was nervous coming into Codeup , but it gave her everything she was looking for. Part of why she wanted to be a developer was because she thought they get to sit around alone , not having to interact with anybody. She very quickly realized this was not the case. “You have to speak up and you have to do it well , and often , with a lot of people. You ’ ll have to work hard , beyond the regular hours. Take advantage of all the resources. Schedule some meetups with peers to work together outside of class. It ’ s so worth it in the end. Just go for it ! ” \\nEddy learned that keeping a part-time job is possible but really , really hard. He was one of the only students ever to finish Codeup while working a job , rushing to work right after class. He regrets doing that because he missed out on socializing and working together after hours. But when he had time , he always tried to work with other students to solve problems together , and encourages the same in others. “Break out of your comfort zone and don ’ t be scared to just start from where you are. The first couple weeks will be really hard , but learn to fall in love with the feeling of being stuck , because eventually you ’ ll be able to solve it. ” \\nBridget and Eddy are working together at VIA , but took very different pathways to get to where they are. Eddy hadn ’ t thought much about coding before deciding to dive right into it , whereas Bridget wanted a career as a developer for years. Whether coding is something you never gave much thought to or you ’ ve tried a different route before , you , too , can make a transition into web development with Codeup ! If you ’ re interested in starting a career that you love in an ever-growing industry , apply today !'"
      ]
     },
     "execution_count": 27,
     "metadata": {},
     "output_type": "execute_result"
    }
   ],
   "source": [
    "tokenize(blogs.content[0])"
   ]
  },
  {
   "cell_type": "markdown",
   "metadata": {},
   "source": [
    "3. Define a function named `stem`. It should accept some text and return the text after applying stemming to all the words."
   ]
  },
  {
   "cell_type": "code",
   "execution_count": 28,
   "metadata": {},
   "outputs": [],
   "source": [
    "def stem(text):\n",
    "    # creates the stemming object\n",
    "    ps = nltk.porter.PorterStemmer()\n",
    "    # creates variable stem that reads all words in text split into a list as a list\n",
    "    stems = [ps.stem(word) for word in text.split()]\n",
    "    # creates variable to join all words from previous list with a space as one string\n",
    "    article_stemmed = ' '.join(stems)\n",
    "    return article_stemmed"
   ]
  },
  {
   "cell_type": "code",
   "execution_count": 29,
   "metadata": {},
   "outputs": [
    {
     "data": {
      "text/plain": [
       "'everyon start somewhere. mani develop out there didn’t grow up want to code. it’ someth they fell into over time, much like two codeup alumni, bridget mill and eddi bautista. these two softwar develop graduat from our web develop class in decemb 2019. they came back for a virtual panel event to share their journey into web develop and to give advic to peopl want to becom a softwar developer. what were you do befor codeup? eddi had been a sale assist for year and wa a student at san antonio colleg studi kinesiology. bridget work at a courthouse, but those career plan were alter after becom a militari spous and moving. she went back to school for a degre in inform technolog (it), special in system engineering, and becam an IT specialist. what led you to a career in coding? when someon he knew mention coding, eddi learn all he could and code for three day use onlin cours and tutorials. He immedi knew thi wa what he want to do as a career. while bridget wa work at the lawyer’ office, a develop team came in to help with court systems. she ask them question and becam fascin by what they were doing. after decid not to pursu law, she decid to go back to school for it. her job as an IT specialist isn’t exactli what she had in mind, but her degre didn’t offer the code experi necessari to becom a developer, which wa her true end goal. even after move to hawaii and have two kids, that dream persisted. her cousin, a developer, mention that some of her cowork went to a code bootcamp. with anoth kid and anoth move on the horizon, she decid she would enrol in a code bootcamp when her famili settl down in texas. whi codeup? while research how to becom a developer, eddi found codeup. our cultur stood out to him, the admiss team wa helpful, he like that we offer help with the job search through resum assist and interview training, and he realli like how plug in we are to the san antonio technolog scene. He felt all the piec come togeth and could pictur himself here. for bridget, it boil down to the curriculum and hands-on experience. when she wa in college, she learn a lot of theory, but didn’t get experi actual coding, which, as she learn the hard way, is what employ are realli look for. she look into some option for code bootcamp and codeup stood out to her. It wa big plu that even as a militari spouse, she wa abl to use VA benefits. she love our assist with job placement, and note that she had gone to school twice and neither colleg offer anyth like that. what’ a typic day for you? currently, both panelist are work as develop for via metropolitan transit. due to covid-19, they’r both work from home. eddi usual start hi day earli with a code challeng on a websit like codewars. He ha a virtual meet with hi mentor to discuss some code. for most of the day, they solv a problem or do some pair programming. they also have team meet and daili standups. bridget is current lead an artifici intellig project with via that take up most of her time. she usual ha virtual meet with member of her team, other team at via, and contractors. she doe document and use program to updat the current statu of her project for the team to see. how is the work-lif balance? code is a hobbi for bridget. she take her laptop with her from room to room, sometim code with her child in her lap. she love it so much, she often work late unintent until her kid come in the room to check on her. becaus of this, she doesn’t feel complet balanc but know that it’ onli becaus she love it so much. eddi feel similarly, state that when they do work late, it’ usual becaus they want to. the work-lif balanc ha been good for him. what advic would you give to someon think of attend codeup’ web develop program? bridget wa nervou come into codeup, but it gave her everyth she wa look for. part of whi she want to be a develop wa becaus she thought they get to sit around alone, not have to interact with anybody. she veri quickli realiz thi wa not the case. “you have to speak up and you have to do it well, and often, with a lot of people. you’ll have to work hard, beyond the regular hours. take advantag of all the resources. schedul some meetup with peer to work togeth outsid of class. it’ so worth it in the end. just go for it!” eddi learn that keep a part-tim job is possibl but really, realli hard. He wa one of the onli student ever to finish codeup while work a job, rush to work right after class. He regret do that becaus he miss out on social and work togeth after hours. but when he had time, he alway tri to work with other student to solv problem together, and encourag the same in others. “break out of your comfort zone and don’t be scare to just start from where you are. the first coupl week will be realli hard, but learn to fall in love with the feel of be stuck, becaus eventu you’ll be abl to solv it.” bridget and eddi are work togeth at via, but took veri differ pathway to get to where they are. eddi hadn’t thought much about code befor decid to dive right into it, wherea bridget want a career as a develop for years. whether code is someth you never gave much thought to or you’v tri a differ rout before, you, too, can make a transit into web develop with codeup! If you’r interest in start a career that you love in an ever-grow industry, appli today!'"
      ]
     },
     "execution_count": 29,
     "metadata": {},
     "output_type": "execute_result"
    }
   ],
   "source": [
    "stem(blogs.content[0])"
   ]
  },
  {
   "cell_type": "markdown",
   "metadata": {},
   "source": [
    "4. Define a function named `lemmatize`. It should accept some text and return the text after applying lemmatization to each word."
   ]
  },
  {
   "cell_type": "code",
   "execution_count": 32,
   "metadata": {},
   "outputs": [],
   "source": [
    "def lemmatize(text):\n",
    "    # create the lemmatization object\n",
    "    wnl = nltk.stem.WordNetLemmatizer()\n",
    "    # splits words in text to a list, then lemmatizes each word in the list\n",
    "    lemmas = [wnl.lemmatize(word) for word in text.split()]\n",
    "    # joins each word as a single string with a space between the words\n",
    "    text = ' '.join(lemmas)\n",
    "    return text"
   ]
  },
  {
   "cell_type": "code",
   "execution_count": 37,
   "metadata": {},
   "outputs": [
    {
     "data": {
      "text/plain": [
       "'Everyone start somewhere. Many developer out there didn’t grow up wanting to code. It’s something they fell into over time, much like two Codeup alumni, Bridget Mills and Eddy Bautista. These two software developer graduated from our Web Development class in December 2019. They came back for a virtual panel event to share their journey into web development and to give advice to people wanting to become a software developer. What were you doing before Codeup? Eddy had been a sale assistant for year and wa a student at San Antonio College studying Kinesiology. Bridget worked at a courthouse, but those career plan were altered after becoming a military spouse and moving. She went back to school for a degree in Information Technology (IT), specializing in System Engineering, and became an IT Specialist. What led you to a career in coding? When someone he knew mentioned coding, Eddy learned all he could and coded for three day using online course and tutorials. He immediately knew this wa what he wanted to do a a career. While Bridget wa working at the lawyer’s office, a development team came in to help with court systems. She asked them question and became fascinated by what they were doing. After deciding not to pursue law, she decided to go back to school for IT. Her job a an IT Specialist isn’t exactly what she had in mind, but her degree didn’t offer the coding experience necessary to become a developer, which wa her true end goal. Even after moving to Hawaii and having two kids, that dream persisted. Her cousin, a developer, mentioned that some of her coworkers went to a coding bootcamp. With another kid and another move on the horizon, she decided she would enroll in a coding bootcamp when her family settled down in Texas. Why Codeup? While researching how to become a developer, Eddy found Codeup. Our culture stood out to him, the admission team wa helpful, he liked that we offer help with the job search through resume assistance and interview training, and he really liked how plugged in we are to the San Antonio technology scene. He felt all the piece coming together and could picture himself here. For Bridget, it boiled down to the curriculum and hands-on experience. When she wa in college, she learned a lot of theory, but didn’t get experience actually coding, which, a she learned the hard way, is what employer are really looking for. She looked into some option for coding bootcamps and Codeup stood out to her. It wa big plus that even a a military spouse, she wa able to use VA benefits. She loved our assistance with job placement, and noted that she had gone to school twice and neither college offered anything like that. What’s a typical day for you? Currently, both panelist are working a developer for VIA Metropolitan Transit. Due to COVID-19, they’re both working from home. Eddy usually start his day early with a coding challenge on a website like Codewars. He ha a virtual meeting with his mentor to discus some code. For most of the day, they solve a problem or do some pair programming. They also have team meeting and daily standups. Bridget is currently leading an Artificial Intelligence project with VIA that take up most of her time. She usually ha virtual meeting with member of her team, other team at VIA, and contractors. She doe documentation and us program to update the current status of her project for the team to see. How is the work-life balance? Coding is a hobby for Bridget. She take her laptop with her from room to room, sometimes coding with her child in her lap. She love it so much, she often work late unintentionally until her kid come in the room to check on her. Because of this, she doesn’t feel completely balanced but know that it’s only because she love it so much. Eddy feel similarly, stating that when they do work late, it’s usually because they want to. The work-life balance ha been good for him. What advice would you give to someone thinking of attending Codeup’s Web Development program? Bridget wa nervous coming into Codeup, but it gave her everything she wa looking for. Part of why she wanted to be a developer wa because she thought they get to sit around alone, not having to interact with anybody. She very quickly realized this wa not the case. “You have to speak up and you have to do it well, and often, with a lot of people. You’ll have to work hard, beyond the regular hours. Take advantage of all the resources. Schedule some meetups with peer to work together outside of class. It’s so worth it in the end. Just go for it!” Eddy learned that keeping a part-time job is possible but really, really hard. He wa one of the only student ever to finish Codeup while working a job, rushing to work right after class. He regret doing that because he missed out on socializing and working together after hours. But when he had time, he always tried to work with other student to solve problem together, and encourages the same in others. “Break out of your comfort zone and don’t be scared to just start from where you are. The first couple week will be really hard, but learn to fall in love with the feeling of being stuck, because eventually you’ll be able to solve it.” Bridget and Eddy are working together at VIA, but took very different pathway to get to where they are. Eddy hadn’t thought much about coding before deciding to dive right into it, whereas Bridget wanted a career a a developer for years. Whether coding is something you never gave much thought to or you’ve tried a different route before, you, too, can make a transition into web development with Codeup! If you’re interested in starting a career that you love in an ever-growing industry, apply today!'"
      ]
     },
     "execution_count": 37,
     "metadata": {},
     "output_type": "execute_result"
    }
   ],
   "source": [
    "lemmatize(blogs.content[0])"
   ]
  },
  {
   "cell_type": "markdown",
   "metadata": {},
   "source": [
    "5. Define a function named `remove_stopwords`. It should accept some text and return the text after removing all the stopwords.\n",
    "\n",
    "This function should define two optional parameters, `extra_words` and `exclude_words`. These parameters should define any additional stop words to include, and any words that we *don't* want to remove."
   ]
  },
  {
   "cell_type": "code",
   "execution_count": 34,
   "metadata": {},
   "outputs": [
    {
     "data": {
      "text/plain": [
       "['i', 'me', 'my', 'myself', 'we', 'our', 'ours', 'ourselves', 'you', \"you're\"]"
      ]
     },
     "execution_count": 34,
     "metadata": {},
     "output_type": "execute_result"
    }
   ],
   "source": [
    "stopword_list = stopwords.words('english')\n",
    "stopword_list[:10]"
   ]
  },
  {
   "cell_type": "code",
   "execution_count": 38,
   "metadata": {},
   "outputs": [],
   "source": [
    "def remove_stopwords(text, extra_words=[], exclude_words=[]):\n",
    "    # creates list of stop words\n",
    "    stopword_list = stopwords.words('english')\n",
    "    \n",
    "    # remove 'exclude_words' from stopword_list to keep these in the text.\n",
    "    stopword_list = set(stopword_list) - set(exclude_words)\n",
    "\n",
    "    # add 'extra_words' to stopword_list.\n",
    "    stopword_list = stopword_list.union(set(extra_words))\n",
    "    \n",
    "    # split words in string.\n",
    "    words = text.split()\n",
    "    \n",
    "    # Create a list of words from my string with stopwords removed and assign to variable.\n",
    "    filtered_words = [word for word in words if word not in stopword_list]\n",
    "    \n",
    "    # Join words in the list back into strings and assign to a variable.\n",
    "    string_without_stopwords = ' '.join(filtered_words)\n",
    "    \n",
    "    return string_without_stopwords"
   ]
  },
  {
   "cell_type": "code",
   "execution_count": 39,
   "metadata": {},
   "outputs": [
    {
     "data": {
      "text/plain": [
       "'Everyone starts somewhere. Many developers didn’t grow wanting code. It’s something fell time, much like two Codeup alumni, Bridget Mills Eddy Bautista. These two software developers graduated Web Development class December 2019. They came back virtual panel event share journey web development give advice people wanting become software developer. What Codeup? Eddy sales assistant years student San Antonio College studying Kinesiology. Bridget worked courthouse, career plans altered becoming military spouse moving. She went back school degree Information Technology (IT), specializing System Engineering, became IT Specialist. What led career coding? When someone knew mentioned coding, Eddy learned could coded three days using online courses tutorials. He immediately knew wanted career. While Bridget working lawyer’s office, development team came help court systems. She asked questions became fascinated doing. After deciding pursue law, decided go back school IT. Her job IT Specialist isn’t exactly mind, degree didn’t offer coding experience necessary become developer, true end goal. Even moving Hawaii two kids, dream persisted. Her cousin, developer, mentioned coworkers went coding bootcamp. With another kid another move horizon, decided would enroll coding bootcamp family settled Texas. Why Codeup? While researching become developer, Eddy found Codeup. Our culture stood him, admissions team helpful, liked offer help job search resume assistance interview training, really liked plugged San Antonio technology scene. He felt pieces coming together could picture here. For Bridget, boiled curriculum hands-on experience. When college, learned lot theory, didn’t get experience actually coding, which, learned hard way, employers really looking for. She looked options coding bootcamps Codeup stood her. It big plus even military spouse, able use VA benefits. She loved assistance job placement, noted gone school twice neither college offered anything like that. What’s typical day you? Currently, panelists working developers VIA Metropolitan Transit. Due COVID-19, they’re working home. Eddy usually starts day early coding challenge website like Codewars. He virtual meeting mentor discuss code. For day, solve problem pair programming. They also team meetings daily standups. Bridget currently leading Artificial Intelligence project VIA takes time. She usually virtual meetings members team, teams VIA, contractors. She documentation uses programs update current status projects team see. How work-life balance? Coding hobby Bridget. She takes laptop room room, sometimes coding child lap. She loves much, often works late unintentionally kids come room check her. Because this, doesn’t feel completely balanced knows it’s loves much. Eddy feels similarly, stating work late, it’s usually want to. The work-life balance good him. What advice would give someone thinking attending Codeup’s Web Development program? Bridget nervous coming Codeup, gave everything looking for. Part wanted developer thought get sit around alone, interact anybody. She quickly realized case. “You speak well, often, lot people. You’ll work hard, beyond regular hours. Take advantage resources. Schedule meetups peers work together outside class. It’s worth end. Just go it!” Eddy learned keeping part-time job possible really, really hard. He one students ever finish Codeup working job, rushing work right class. He regrets missed socializing working together hours. But time, always tried work students solve problems together, encourages others. “Break comfort zone don’t scared start are. The first couple weeks really hard, learn fall love feeling stuck, eventually you’ll able solve it.” Bridget Eddy working together VIA, took different pathways get are. Eddy hadn’t thought much coding deciding dive right it, whereas Bridget wanted career developer years. Whether coding something never gave much thought you’ve tried different route before, you, too, make transition web development Codeup! If you’re interested starting career love ever-growing industry, apply today!'"
      ]
     },
     "execution_count": 39,
     "metadata": {},
     "output_type": "execute_result"
    }
   ],
   "source": [
    "remove_stopwords(blogs.content[0])"
   ]
  },
  {
   "cell_type": "markdown",
   "metadata": {},
   "source": [
    "6. Use your data from the acquire to produce a dataframe of the news articles. Name the dataframe `news_df`."
   ]
  },
  {
   "cell_type": "code",
   "execution_count": 43,
   "metadata": {},
   "outputs": [],
   "source": [
    "news_df = acquire.get_news_articles(cached=True)"
   ]
  },
  {
   "cell_type": "code",
   "execution_count": 44,
   "metadata": {},
   "outputs": [
    {
     "data": {
      "text/html": [
       "<div>\n",
       "<style scoped>\n",
       "    .dataframe tbody tr th:only-of-type {\n",
       "        vertical-align: middle;\n",
       "    }\n",
       "\n",
       "    .dataframe tbody tr th {\n",
       "        vertical-align: top;\n",
       "    }\n",
       "\n",
       "    .dataframe thead th {\n",
       "        text-align: right;\n",
       "    }\n",
       "</style>\n",
       "<table border=\"1\" class=\"dataframe\">\n",
       "  <thead>\n",
       "    <tr style=\"text-align: right;\">\n",
       "      <th></th>\n",
       "      <th>topic</th>\n",
       "      <th>title</th>\n",
       "      <th>author</th>\n",
       "      <th>content</th>\n",
       "    </tr>\n",
       "  </thead>\n",
       "  <tbody>\n",
       "    <tr>\n",
       "      <th>0</th>\n",
       "      <td>business</td>\n",
       "      <td>Moderna's early data shows its COVID-19 vaccin...</td>\n",
       "      <td>Pragya Swastik</td>\n",
       "      <td>American biotechnology company Moderna on Mond...</td>\n",
       "    </tr>\n",
       "    <tr>\n",
       "      <th>1</th>\n",
       "      <td>business</td>\n",
       "      <td>15 countries sign world's biggest free-trade p...</td>\n",
       "      <td>Pragya Swastik</td>\n",
       "      <td>Fifteen Asia-Pacific countries signed the Regi...</td>\n",
       "    </tr>\n",
       "    <tr>\n",
       "      <th>2</th>\n",
       "      <td>business</td>\n",
       "      <td>How does Moderna's COVID-19 vaccine candidate ...</td>\n",
       "      <td>Pragya Swastik</td>\n",
       "      <td>Moderna's initial results of late-stage trial ...</td>\n",
       "    </tr>\n",
       "    <tr>\n",
       "      <th>3</th>\n",
       "      <td>business</td>\n",
       "      <td>Reliance Retail buys 96% stake in Urban Ladder...</td>\n",
       "      <td>Rishabh Bhatnagar</td>\n",
       "      <td>Reliance Industries' retail arm Reliance Retai...</td>\n",
       "    </tr>\n",
       "    <tr>\n",
       "      <th>4</th>\n",
       "      <td>business</td>\n",
       "      <td>Reduce foreign funding to 26% by Oct 15, 2021:...</td>\n",
       "      <td>Pragya Swastik</td>\n",
       "      <td>The I&amp;B Ministry on Monday asked digital media...</td>\n",
       "    </tr>\n",
       "  </tbody>\n",
       "</table>\n",
       "</div>"
      ],
      "text/plain": [
       "      topic                                              title  \\\n",
       "0  business  Moderna's early data shows its COVID-19 vaccin...   \n",
       "1  business  15 countries sign world's biggest free-trade p...   \n",
       "2  business  How does Moderna's COVID-19 vaccine candidate ...   \n",
       "3  business  Reliance Retail buys 96% stake in Urban Ladder...   \n",
       "4  business  Reduce foreign funding to 26% by Oct 15, 2021:...   \n",
       "\n",
       "              author                                            content  \n",
       "0     Pragya Swastik  American biotechnology company Moderna on Mond...  \n",
       "1     Pragya Swastik  Fifteen Asia-Pacific countries signed the Regi...  \n",
       "2     Pragya Swastik  Moderna's initial results of late-stage trial ...  \n",
       "3  Rishabh Bhatnagar  Reliance Industries' retail arm Reliance Retai...  \n",
       "4     Pragya Swastik  The I&B Ministry on Monday asked digital media...  "
      ]
     },
     "execution_count": 44,
     "metadata": {},
     "output_type": "execute_result"
    }
   ],
   "source": [
    "news_df.head()"
   ]
  },
  {
   "cell_type": "markdown",
   "metadata": {},
   "source": [
    "7. Make another dataframe for the Codeup blog posts. Name the dataframe `codeup_df`."
   ]
  },
  {
   "cell_type": "code",
   "execution_count": 49,
   "metadata": {},
   "outputs": [],
   "source": [
    "codeup_df = acquire.get_blog_articles(acquire.get_all_urls(), cached=True)"
   ]
  },
  {
   "cell_type": "code",
   "execution_count": 50,
   "metadata": {},
   "outputs": [
    {
     "data": {
      "text/html": [
       "<div>\n",
       "<style scoped>\n",
       "    .dataframe tbody tr th:only-of-type {\n",
       "        vertical-align: middle;\n",
       "    }\n",
       "\n",
       "    .dataframe tbody tr th {\n",
       "        vertical-align: top;\n",
       "    }\n",
       "\n",
       "    .dataframe thead th {\n",
       "        text-align: right;\n",
       "    }\n",
       "</style>\n",
       "<table border=\"1\" class=\"dataframe\">\n",
       "  <thead>\n",
       "    <tr style=\"text-align: right;\">\n",
       "      <th></th>\n",
       "      <th>title</th>\n",
       "      <th>content</th>\n",
       "    </tr>\n",
       "  </thead>\n",
       "  <tbody>\n",
       "    <tr>\n",
       "      <th>0</th>\n",
       "      <td>Alumni Share their Journey into Web Development</td>\n",
       "      <td>Everyone starts somewhere. Many developers out...</td>\n",
       "    </tr>\n",
       "    <tr>\n",
       "      <th>1</th>\n",
       "      <td>How Codeup Alumni Helped Dallas Youth Fight CO...</td>\n",
       "      <td>Three of our Web Development alumni from Dalla...</td>\n",
       "    </tr>\n",
       "    <tr>\n",
       "      <th>2</th>\n",
       "      <td>What is Codeup’s Application Process?</td>\n",
       "      <td>Curious about Codeup’s application process? Wo...</td>\n",
       "    </tr>\n",
       "    <tr>\n",
       "      <th>3</th>\n",
       "      <td>Codeup Launches Houston!</td>\n",
       "      <td>Houston, we have a problem: there aren’t enoug...</td>\n",
       "    </tr>\n",
       "    <tr>\n",
       "      <th>4</th>\n",
       "      <td>Codeup Grads Win CivTech Datathon</td>\n",
       "      <td>Many Codeup alumni enjoy competing in hackatho...</td>\n",
       "    </tr>\n",
       "  </tbody>\n",
       "</table>\n",
       "</div>"
      ],
      "text/plain": [
       "                                               title  \\\n",
       "0    Alumni Share their Journey into Web Development   \n",
       "1  How Codeup Alumni Helped Dallas Youth Fight CO...   \n",
       "2              What is Codeup’s Application Process?   \n",
       "3                           Codeup Launches Houston!   \n",
       "4                  Codeup Grads Win CivTech Datathon   \n",
       "\n",
       "                                             content  \n",
       "0  Everyone starts somewhere. Many developers out...  \n",
       "1  Three of our Web Development alumni from Dalla...  \n",
       "2  Curious about Codeup’s application process? Wo...  \n",
       "3  Houston, we have a problem: there aren’t enoug...  \n",
       "4  Many Codeup alumni enjoy competing in hackatho...  "
      ]
     },
     "execution_count": 50,
     "metadata": {},
     "output_type": "execute_result"
    }
   ],
   "source": [
    "codeup_df.head()"
   ]
  },
  {
   "cell_type": "markdown",
   "metadata": {},
   "source": [
    "8. For each dataframe, produce the following columns:\n",
    "\n",
    "    - `title` to hold the title\n",
    "    - `original` to hold the original article/post content\n",
    "    - `clean` to hold the normalized and tokenized original with the stopwords removed.\n",
    "    - `stemmed` to hold the stemmed version of the cleaned data.\n",
    "    - `lemmatized` to hold the lemmatized version of the cleaned data."
   ]
  },
  {
   "cell_type": "code",
   "execution_count": 56,
   "metadata": {},
   "outputs": [
    {
     "data": {
      "text/plain": [
       "0    american biotechnology company moderna monday ...\n",
       "1    fifteen asiapacific country signed regional co...\n",
       "2    moderna ' initial result latestage trial show ...\n",
       "3    reliance industry ' retail arm reliance retail...\n",
       "4    ib ministry monday asked digital medium compan...\n",
       "Name: content, dtype: object"
      ]
     },
     "execution_count": 56,
     "metadata": {},
     "output_type": "execute_result"
    }
   ],
   "source": [
    "news_df.content.apply(basic_clean).apply(tokenize).apply(remove_stopwords).apply(lemmatize).head()"
   ]
  },
  {
   "cell_type": "code",
   "execution_count": 65,
   "metadata": {},
   "outputs": [],
   "source": [
    "def prep_article_data(df, column, extra_words=[], exclude_words=[]):\n",
    "    df = df.rename(columns={column:'original'})\n",
    "    df['clean'] = df.original.apply(basic_clean)\\\n",
    "        .apply(tokenize)\\\n",
    "        .apply(remove_stopwords,\n",
    "               extra_words=extra_words, \n",
    "               exclude_words=exclude_words)\n",
    "    df['stemmed'] = df.clean.apply(stem)\n",
    "    df['lemmatized'] = df.clean.apply(lemmatize)\n",
    "    return df"
   ]
  },
  {
   "cell_type": "code",
   "execution_count": 67,
   "metadata": {},
   "outputs": [
    {
     "data": {
      "text/html": [
       "<div>\n",
       "<style scoped>\n",
       "    .dataframe tbody tr th:only-of-type {\n",
       "        vertical-align: middle;\n",
       "    }\n",
       "\n",
       "    .dataframe tbody tr th {\n",
       "        vertical-align: top;\n",
       "    }\n",
       "\n",
       "    .dataframe thead th {\n",
       "        text-align: right;\n",
       "    }\n",
       "</style>\n",
       "<table border=\"1\" class=\"dataframe\">\n",
       "  <thead>\n",
       "    <tr style=\"text-align: right;\">\n",
       "      <th></th>\n",
       "      <th>topic</th>\n",
       "      <th>title</th>\n",
       "      <th>author</th>\n",
       "      <th>original</th>\n",
       "      <th>clean</th>\n",
       "      <th>stemmed</th>\n",
       "      <th>lemmatized</th>\n",
       "    </tr>\n",
       "  </thead>\n",
       "  <tbody>\n",
       "    <tr>\n",
       "      <th>0</th>\n",
       "      <td>business</td>\n",
       "      <td>Moderna's early data shows its COVID-19 vaccin...</td>\n",
       "      <td>Pragya Swastik</td>\n",
       "      <td>American biotechnology company Moderna on Mond...</td>\n",
       "      <td>american biotechnology company moderna monday ...</td>\n",
       "      <td>american biotechnolog compani moderna monday a...</td>\n",
       "      <td>american biotechnology company moderna monday ...</td>\n",
       "    </tr>\n",
       "    <tr>\n",
       "      <th>1</th>\n",
       "      <td>business</td>\n",
       "      <td>15 countries sign world's biggest free-trade p...</td>\n",
       "      <td>Pragya Swastik</td>\n",
       "      <td>Fifteen Asia-Pacific countries signed the Regi...</td>\n",
       "      <td>fifteen asiapacific countries signed regional ...</td>\n",
       "      <td>fifteen asiapacif countri sign region comprehe...</td>\n",
       "      <td>fifteen asiapacific country signed regional co...</td>\n",
       "    </tr>\n",
       "    <tr>\n",
       "      <th>2</th>\n",
       "      <td>business</td>\n",
       "      <td>How does Moderna's COVID-19 vaccine candidate ...</td>\n",
       "      <td>Pragya Swastik</td>\n",
       "      <td>Moderna's initial results of late-stage trial ...</td>\n",
       "      <td>moderna ' initial results latestage trial show...</td>\n",
       "      <td>moderna ' initi result latestag trial show cov...</td>\n",
       "      <td>moderna ' initial result latestage trial show ...</td>\n",
       "    </tr>\n",
       "    <tr>\n",
       "      <th>3</th>\n",
       "      <td>business</td>\n",
       "      <td>Reliance Retail buys 96% stake in Urban Ladder...</td>\n",
       "      <td>Rishabh Bhatnagar</td>\n",
       "      <td>Reliance Industries' retail arm Reliance Retai...</td>\n",
       "      <td>reliance industries ' retail arm reliance reta...</td>\n",
       "      <td>relianc industri ' retail arm relianc retail v...</td>\n",
       "      <td>reliance industry ' retail arm reliance retail...</td>\n",
       "    </tr>\n",
       "    <tr>\n",
       "      <th>4</th>\n",
       "      <td>business</td>\n",
       "      <td>Reduce foreign funding to 26% by Oct 15, 2021:...</td>\n",
       "      <td>Pragya Swastik</td>\n",
       "      <td>The I&amp;B Ministry on Monday asked digital media...</td>\n",
       "      <td>ib ministry monday asked digital media compani...</td>\n",
       "      <td>ib ministri monday ask digit media compani 26 ...</td>\n",
       "      <td>ib ministry monday asked digital medium compan...</td>\n",
       "    </tr>\n",
       "  </tbody>\n",
       "</table>\n",
       "</div>"
      ],
      "text/plain": [
       "      topic                                              title  \\\n",
       "0  business  Moderna's early data shows its COVID-19 vaccin...   \n",
       "1  business  15 countries sign world's biggest free-trade p...   \n",
       "2  business  How does Moderna's COVID-19 vaccine candidate ...   \n",
       "3  business  Reliance Retail buys 96% stake in Urban Ladder...   \n",
       "4  business  Reduce foreign funding to 26% by Oct 15, 2021:...   \n",
       "\n",
       "              author                                           original  \\\n",
       "0     Pragya Swastik  American biotechnology company Moderna on Mond...   \n",
       "1     Pragya Swastik  Fifteen Asia-Pacific countries signed the Regi...   \n",
       "2     Pragya Swastik  Moderna's initial results of late-stage trial ...   \n",
       "3  Rishabh Bhatnagar  Reliance Industries' retail arm Reliance Retai...   \n",
       "4     Pragya Swastik  The I&B Ministry on Monday asked digital media...   \n",
       "\n",
       "                                               clean  \\\n",
       "0  american biotechnology company moderna monday ...   \n",
       "1  fifteen asiapacific countries signed regional ...   \n",
       "2  moderna ' initial results latestage trial show...   \n",
       "3  reliance industries ' retail arm reliance reta...   \n",
       "4  ib ministry monday asked digital media compani...   \n",
       "\n",
       "                                             stemmed  \\\n",
       "0  american biotechnolog compani moderna monday a...   \n",
       "1  fifteen asiapacif countri sign region comprehe...   \n",
       "2  moderna ' initi result latestag trial show cov...   \n",
       "3  relianc industri ' retail arm relianc retail v...   \n",
       "4  ib ministri monday ask digit media compani 26 ...   \n",
       "\n",
       "                                          lemmatized  \n",
       "0  american biotechnology company moderna monday ...  \n",
       "1  fifteen asiapacific country signed regional co...  \n",
       "2  moderna ' initial result latestage trial show ...  \n",
       "3  reliance industry ' retail arm reliance retail...  \n",
       "4  ib ministry monday asked digital medium compan...  "
      ]
     },
     "execution_count": 67,
     "metadata": {},
     "output_type": "execute_result"
    }
   ],
   "source": [
    "prep_article_data(news_df, 'content').head()"
   ]
  },
  {
   "cell_type": "code",
   "execution_count": 68,
   "metadata": {},
   "outputs": [
    {
     "data": {
      "text/html": [
       "<div>\n",
       "<style scoped>\n",
       "    .dataframe tbody tr th:only-of-type {\n",
       "        vertical-align: middle;\n",
       "    }\n",
       "\n",
       "    .dataframe tbody tr th {\n",
       "        vertical-align: top;\n",
       "    }\n",
       "\n",
       "    .dataframe thead th {\n",
       "        text-align: right;\n",
       "    }\n",
       "</style>\n",
       "<table border=\"1\" class=\"dataframe\">\n",
       "  <thead>\n",
       "    <tr style=\"text-align: right;\">\n",
       "      <th></th>\n",
       "      <th>title</th>\n",
       "      <th>original</th>\n",
       "      <th>clean</th>\n",
       "      <th>stemmed</th>\n",
       "      <th>lemmatized</th>\n",
       "    </tr>\n",
       "  </thead>\n",
       "  <tbody>\n",
       "    <tr>\n",
       "      <th>0</th>\n",
       "      <td>Alumni Share their Journey into Web Development</td>\n",
       "      <td>Everyone starts somewhere. Many developers out...</td>\n",
       "      <td>everyone starts somewhere many developers didn...</td>\n",
       "      <td>everyon start somewher mani develop didnt grow...</td>\n",
       "      <td>everyone start somewhere many developer didnt ...</td>\n",
       "    </tr>\n",
       "    <tr>\n",
       "      <th>1</th>\n",
       "      <td>How Codeup Alumni Helped Dallas Youth Fight CO...</td>\n",
       "      <td>Three of our Web Development alumni from Dalla...</td>\n",
       "      <td>three web development alumni dallas rex sutton...</td>\n",
       "      <td>three web develop alumni dalla rex sutton ry s...</td>\n",
       "      <td>three web development alumnus dallas rex sutto...</td>\n",
       "    </tr>\n",
       "    <tr>\n",
       "      <th>2</th>\n",
       "      <td>What is Codeup’s Application Process?</td>\n",
       "      <td>Curious about Codeup’s application process? Wo...</td>\n",
       "      <td>curious codeups application process wondering ...</td>\n",
       "      <td>curiou codeup applic process wonder need appli...</td>\n",
       "      <td>curious codeups application process wondering ...</td>\n",
       "    </tr>\n",
       "    <tr>\n",
       "      <th>3</th>\n",
       "      <td>Codeup Launches Houston!</td>\n",
       "      <td>Houston, we have a problem: there aren’t enoug...</td>\n",
       "      <td>houston problem arent enough software develope...</td>\n",
       "      <td>houston problem arent enough softwar develop 6...</td>\n",
       "      <td>houston problem arent enough software develope...</td>\n",
       "    </tr>\n",
       "    <tr>\n",
       "      <th>4</th>\n",
       "      <td>Codeup Grads Win CivTech Datathon</td>\n",
       "      <td>Many Codeup alumni enjoy competing in hackatho...</td>\n",
       "      <td>many codeup alumni enjoy competing hackathons ...</td>\n",
       "      <td>mani codeup alumni enjoy compet hackathon simi...</td>\n",
       "      <td>many codeup alumnus enjoy competing hackathons...</td>\n",
       "    </tr>\n",
       "  </tbody>\n",
       "</table>\n",
       "</div>"
      ],
      "text/plain": [
       "                                               title  \\\n",
       "0    Alumni Share their Journey into Web Development   \n",
       "1  How Codeup Alumni Helped Dallas Youth Fight CO...   \n",
       "2              What is Codeup’s Application Process?   \n",
       "3                           Codeup Launches Houston!   \n",
       "4                  Codeup Grads Win CivTech Datathon   \n",
       "\n",
       "                                            original  \\\n",
       "0  Everyone starts somewhere. Many developers out...   \n",
       "1  Three of our Web Development alumni from Dalla...   \n",
       "2  Curious about Codeup’s application process? Wo...   \n",
       "3  Houston, we have a problem: there aren’t enoug...   \n",
       "4  Many Codeup alumni enjoy competing in hackatho...   \n",
       "\n",
       "                                               clean  \\\n",
       "0  everyone starts somewhere many developers didn...   \n",
       "1  three web development alumni dallas rex sutton...   \n",
       "2  curious codeups application process wondering ...   \n",
       "3  houston problem arent enough software develope...   \n",
       "4  many codeup alumni enjoy competing hackathons ...   \n",
       "\n",
       "                                             stemmed  \\\n",
       "0  everyon start somewher mani develop didnt grow...   \n",
       "1  three web develop alumni dalla rex sutton ry s...   \n",
       "2  curiou codeup applic process wonder need appli...   \n",
       "3  houston problem arent enough softwar develop 6...   \n",
       "4  mani codeup alumni enjoy compet hackathon simi...   \n",
       "\n",
       "                                          lemmatized  \n",
       "0  everyone start somewhere many developer didnt ...  \n",
       "1  three web development alumnus dallas rex sutto...  \n",
       "2  curious codeups application process wondering ...  \n",
       "3  houston problem arent enough software develope...  \n",
       "4  many codeup alumnus enjoy competing hackathons...  "
      ]
     },
     "execution_count": 68,
     "metadata": {},
     "output_type": "execute_result"
    }
   ],
   "source": [
    "prep_article_data(codeup_df, 'content').head()"
   ]
  },
  {
   "cell_type": "markdown",
   "metadata": {},
   "source": [
    "9. Ask yourself:"
   ]
  },
  {
   "cell_type": "markdown",
   "metadata": {},
   "source": [
    "- If your corpus is 493KB, would you prefer to use stemmed or lemmatized text?    "
   ]
  },
  {
   "cell_type": "markdown",
   "metadata": {},
   "source": [
    "lemmatized"
   ]
  },
  {
   "cell_type": "markdown",
   "metadata": {},
   "source": [
    "- If your corpus is 25MB, would you prefer to use stemmed or lemmatized text?   "
   ]
  },
  {
   "cell_type": "markdown",
   "metadata": {},
   "source": [
    "lemmatized"
   ]
  },
  {
   "cell_type": "markdown",
   "metadata": {},
   "source": [
    "- If your corpus is 200TB of text and you're charged by the megabyte for your hosted computational resources, would you prefer to use stemmed or lemmatized text?"
   ]
  },
  {
   "cell_type": "markdown",
   "metadata": {},
   "source": [
    "stemmed"
   ]
  },
  {
   "cell_type": "code",
   "execution_count": null,
   "metadata": {},
   "outputs": [],
   "source": []
  }
 ],
 "metadata": {
  "kernelspec": {
   "display_name": "Python 3",
   "language": "python",
   "name": "python3"
  },
  "language_info": {
   "codemirror_mode": {
    "name": "ipython",
    "version": 3
   },
   "file_extension": ".py",
   "mimetype": "text/x-python",
   "name": "python",
   "nbconvert_exporter": "python",
   "pygments_lexer": "ipython3",
   "version": "3.7.6"
  }
 },
 "nbformat": 4,
 "nbformat_minor": 4
}
